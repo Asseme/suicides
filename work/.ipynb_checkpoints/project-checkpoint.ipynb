{
 "cells": [
  {
   "cell_type": "code",
   "execution_count": 4,
   "metadata": {},
   "outputs": [
    {
     "name": "stdout",
     "output_type": "stream",
     "text": [
      "+-------+----+------+-----------+-----------+----------+-----------------+------------+------------+------------------+------------------+---------------+\n",
      "|country|year|   sex|        age|suicides_no|population|suicides/100k pop|country-year|HDI for year| gdp_for_year ($) |gdp_per_capita ($)|     generation|\n",
      "+-------+----+------+-----------+-----------+----------+-----------------+------------+------------+------------------+------------------+---------------+\n",
      "|Albania|1987|  male|15-24 years|         21|    312900|             6.71| Albania1987|        null|     2,156,624,900|               796|   Generation X|\n",
      "|Albania|1987|  male|35-54 years|         16|    308000|             5.19| Albania1987|        null|     2,156,624,900|               796|         Silent|\n",
      "|Albania|1987|female|15-24 years|         14|    289700|             4.83| Albania1987|        null|     2,156,624,900|               796|   Generation X|\n",
      "|Albania|1987|  male|  75+ years|          1|     21800|             4.59| Albania1987|        null|     2,156,624,900|               796|G.I. Generation|\n",
      "|Albania|1987|  male|25-34 years|          9|    274300|             3.28| Albania1987|        null|     2,156,624,900|               796|        Boomers|\n",
      "|Albania|1987|female|  75+ years|          1|     35600|             2.81| Albania1987|        null|     2,156,624,900|               796|G.I. Generation|\n",
      "|Albania|1987|female|35-54 years|          6|    278800|             2.15| Albania1987|        null|     2,156,624,900|               796|         Silent|\n",
      "|Albania|1987|female|25-34 years|          4|    257200|             1.56| Albania1987|        null|     2,156,624,900|               796|        Boomers|\n",
      "|Albania|1987|  male|55-74 years|          1|    137500|             0.73| Albania1987|        null|     2,156,624,900|               796|G.I. Generation|\n",
      "|Albania|1987|female| 5-14 years|          0|    311000|                0| Albania1987|        null|     2,156,624,900|               796|   Generation X|\n",
      "|Albania|1987|female|55-74 years|          0|    144600|                0| Albania1987|        null|     2,156,624,900|               796|G.I. Generation|\n",
      "|Albania|1987|  male| 5-14 years|          0|    338200|                0| Albania1987|        null|     2,156,624,900|               796|   Generation X|\n",
      "|Albania|1988|female|  75+ years|          2|     36400|             5.49| Albania1988|        null|     2,126,000,000|               769|G.I. Generation|\n",
      "|Albania|1988|  male|15-24 years|         17|    319200|             5.33| Albania1988|        null|     2,126,000,000|               769|   Generation X|\n",
      "|Albania|1988|  male|  75+ years|          1|     22300|             4.48| Albania1988|        null|     2,126,000,000|               769|G.I. Generation|\n",
      "|Albania|1988|  male|35-54 years|         14|    314100|             4.46| Albania1988|        null|     2,126,000,000|               769|         Silent|\n",
      "|Albania|1988|  male|55-74 years|          4|    140200|             2.85| Albania1988|        null|     2,126,000,000|               769|G.I. Generation|\n",
      "|Albania|1988|female|15-24 years|          8|    295600|             2.71| Albania1988|        null|     2,126,000,000|               769|   Generation X|\n",
      "|Albania|1988|female|55-74 years|          3|    147500|             2.03| Albania1988|        null|     2,126,000,000|               769|G.I. Generation|\n",
      "|Albania|1988|female|25-34 years|          5|    262400|             1.91| Albania1988|        null|     2,126,000,000|               769|        Boomers|\n",
      "+-------+----+------+-----------+-----------+----------+-----------------+------------+------------+------------------+------------------+---------------+\n",
      "only showing top 20 rows\n",
      "\n"
     ]
    }
   ],
   "source": [
    "from pyspark.sql import SparkSession\n",
    "from pyspark.sql import functions as F\n",
    "spark = SparkSession.builder.getOrCreate()\n",
    "\n",
    "path = \"./data/Suicides/master.csv\"\n",
    "# lecture d'un fichier de manière la plus brute\n",
    "df = spark.read.format('csv').options(header=True).load(path)\n",
    "df.show()"
   ]
  },
  {
   "cell_type": "code",
   "execution_count": null,
   "metadata": {},
   "outputs": [],
   "source": []
  },
  {
   "cell_type": "code",
   "execution_count": null,
   "metadata": {},
   "outputs": [],
   "source": []
  }
 ],
 "metadata": {
  "kernelspec": {
   "display_name": "Python 3",
   "language": "python",
   "name": "python3"
  },
  "language_info": {
   "codemirror_mode": {
    "name": "ipython",
    "version": 3
   },
   "file_extension": ".py",
   "mimetype": "text/x-python",
   "name": "python",
   "nbconvert_exporter": "python",
   "pygments_lexer": "ipython3",
   "version": "3.8.6"
  }
 },
 "nbformat": 4,
 "nbformat_minor": 2
}
